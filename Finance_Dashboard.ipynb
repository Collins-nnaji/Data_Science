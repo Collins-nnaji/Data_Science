{
  "nbformat": 4,
  "nbformat_minor": 0,
  "metadata": {
    "colab": {
      "provenance": [],
      "authorship_tag": "ABX9TyOQcMBai+8tSfMZD9803tU9",
      "include_colab_link": true
    },
    "kernelspec": {
      "name": "python3",
      "display_name": "Python 3"
    },
    "language_info": {
      "name": "python"
    }
  },
  "cells": [
    {
      "cell_type": "markdown",
      "metadata": {
        "id": "view-in-github",
        "colab_type": "text"
      },
      "source": [
        "<a href=\"https://colab.research.google.com/github/Collins-nnaji/Data_Science/blob/main/Finance_Dashboard.ipynb\" target=\"_parent\"><img src=\"https://colab.research.google.com/assets/colab-badge.svg\" alt=\"Open In Colab\"/></a>"
      ]
    },
    {
      "cell_type": "code",
      "source": [
        "!pip install streamlit\n",
        "!pip install pyngrok==4.1.1\n",
        "import streamlit as st\n",
        "import pandas as pd\n",
        "import numpy as np\n",
        "import streamlit as st\n",
        "import pandas as pd\n",
        "import numpy as np"
      ],
      "metadata": {
        "colab": {
          "base_uri": "https://localhost:8080/"
        },
        "id": "BT2xp6pvD2F_",
        "outputId": "80561471-bb73-4f83-d28c-bfa4b652bd37"
      },
      "execution_count": null,
      "outputs": [
        {
          "output_type": "stream",
          "name": "stdout",
          "text": [
            "Overwriting finance_dashboard.py\n"
          ]
        }
      ]
    },
    {
      "cell_type": "code",
      "source": [
        "# Function to calculate simple profit and loss\n",
        "def calculate_profit_loss(revenue, expenses):\n",
        "    return revenue - expenses\n",
        "\n",
        "    # Function to simulate cash flow data\n",
        "def generate_cash_flow_data():\n",
        "    np.random.seed(0)\n",
        "    cash_flow = np.random.randint(-1000, 2000, 24)  # Simulate monthly cash flow for 2 years\n",
        "    months = pd.date_range(start='1/1/2020', periods=24, freq='M')\n",
        "    cash_flow_df = pd.DataFrame(data=cash_flow, index=months, columns=[\"Cash Flow\"])\n",
        "    return cash_flow_df\n",
        "\n",
        "    # Streamlit App Layout\n",
        "st.title('Business Finance Dashboard')\n",
        "\n",
        "# Cash Flow Section\n",
        "st.header('Cash Flow Analysis')\n",
        "cash_flow_data = generate_cash_flow_data()\n",
        "st.line_chart(cash_flow_data)\n",
        "\n",
        "# Profit and Loss Section\n",
        "st.header('Profit & Loss Statement')\n",
        "revenue = st.number_input('Enter total revenue:', value=10000)\n",
        "expenses = st.number_input('Enter total expenses:', value=5000)\n",
        "profit_loss = calculate_profit_loss(revenue, expenses)\n",
        "st.write(f\"Net Profit/Loss: {profit_loss}\")\n",
        "\n",
        "# Placeholder for other financial health checks\n",
        "st.header('Other Financial Health Checks')\n",
        "st.write(\"Other modules like Balance Sheet, Debt Management, Investment Portfolio, etc., will be added here.\")\n",
        "\n"
      ],
      "metadata": {
        "id": "zZ3W46qJDlVx"
      },
      "execution_count": null,
      "outputs": []
    },
    {
      "cell_type": "code",
      "source": [
        "# Set the ngrok authtoken (replace the string with your actual ngrok authtoken)\n",
        "!ngrok authtoken 2ab3EtQCRh0pssjWYduRgzCxn98_6HrhhVeUUwSLRnnNrEzTg"
      ],
      "metadata": {
        "colab": {
          "base_uri": "https://localhost:8080/"
        },
        "id": "R9ouO6sjhNN9",
        "outputId": "f1dfef0d-95bf-4d51-9fd4-bd7c3da27a34"
      },
      "execution_count": null,
      "outputs": [
        {
          "output_type": "stream",
          "name": "stdout",
          "text": [
            "Authtoken saved to configuration file: /root/.config/ngrok/ngrok.yml\n"
          ]
        }
      ]
    },
    {
      "cell_type": "code",
      "source": [
        "from pyngrok import ngrok\n",
        "\n",
        "# Ensure you have set your authtoken correctly first\n",
        "\n",
        "# Setup a tunnel to the streamlit port 8501\n",
        "public_url = ngrok.connect(8501)\n",
        "print('Your app is running at:', public_url)"
      ],
      "metadata": {
        "id": "7sQHCOeZD2RM",
        "colab": {
          "base_uri": "https://localhost:8080/"
        },
        "outputId": "255dc34d-c25d-474b-f2ff-007074d1604e"
      },
      "execution_count": null,
      "outputs": [
        {
          "output_type": "stream",
          "name": "stdout",
          "text": [
            "Your app is running at: NgrokTunnel: \"https://80b2-34-121-210-25.ngrok-free.app\" -> \"http://localhost:8501\"\n"
          ]
        }
      ]
    },
    {
      "cell_type": "code",
      "source": [
        "!streamlit run finance_dashboard.py"
      ],
      "metadata": {
        "id": "F54_j3ncD-9r",
        "colab": {
          "base_uri": "https://localhost:8080/"
        },
        "outputId": "3ae6c88f-1748-4401-9597-0c68aaaf34e1"
      },
      "execution_count": null,
      "outputs": [
        {
          "output_type": "stream",
          "name": "stdout",
          "text": [
            "\n",
            "Collecting usage statistics. To deactivate, set browser.gatherUsageStats to False.\n",
            "\u001b[0m\n",
            "\u001b[0m\n",
            "\u001b[34m\u001b[1m  You can now view your Streamlit app in your browser.\u001b[0m\n",
            "\u001b[0m\n",
            "\u001b[34m  Network URL: \u001b[0m\u001b[1mhttp://172.28.0.12:8501\u001b[0m\n",
            "\u001b[34m  External URL: \u001b[0m\u001b[1mhttp://34.121.210.25:8501\u001b[0m\n",
            "\u001b[0m\n",
            "\u001b[34m  Stopping...\u001b[0m\n",
            "^C\n"
          ]
        }
      ]
    },
    {
      "cell_type": "code",
      "source": [
        "!killall ngrok\n"
      ],
      "metadata": {
        "id": "2vq9XO9HD-3Y",
        "colab": {
          "base_uri": "https://localhost:8080/"
        },
        "outputId": "7fb313c7-73bd-4c77-ce8c-dc4089489d99"
      },
      "execution_count": null,
      "outputs": [
        {
          "output_type": "stream",
          "name": "stdout",
          "text": [
            "ngrok: no process found\n"
          ]
        }
      ]
    },
    {
      "cell_type": "code",
      "source": [],
      "metadata": {
        "id": "jA1K7erTD_Dn"
      },
      "execution_count": null,
      "outputs": []
    }
  ]
}